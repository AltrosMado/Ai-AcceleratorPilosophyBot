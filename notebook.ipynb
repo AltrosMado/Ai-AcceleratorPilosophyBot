{
 "cells": [
  {
   "cell_type": "markdown",
   "metadata": {},
   "source": [
    "## Project : Philosophy Bot\n",
    "\n",
    "data set pdf links: \n",
    "https://www.infobooks.org/pdfview/7529-eastern-philosophy-jsrl-narayana-moorty/\n",
    "https://www.infobooks.org/authors/classic/plato-books/#Republic\n",
    "https://www.infobooks.org/book/on-youth-old-age-life-and-death-and-respiration-aristotle/\n",
    "https://www.infobooks.org/pdfview/7225-the-communist-manifesto-karl-marx/\n",
    "\n",
    "\n",
    "related sources:\n",
    "https://www.kaggle.com/code/gpreda/rag-using-llama3-langchain-and-chromadb\n",
    "https://www.kaggle.com/code/vanvalkenberg/nlp-what-the-philosopher-said/notebook\n",
    "\n",
    "https://www.youtube.com/watch?v=luFHMtaw9pk&ab_channel=DavidBU\n",
    "https://www.youtube.com/watch?v=2TJxpyO3ei4&t=2s&ab_channel=pixegami\n",
    "https://www.youtube.com/watch?v=tcqEUSNCn8I&ab_channel=pixegami\n",
    "https://www.youtube.com/watch?v=Ylz779Op9Pw&ab_channel=ShawTalebi\n",
    "https://www.youtube.com/watch?v=au2WVVGUvc8&t=307s&ab_channel=LiamOttley"
   ]
  }
 ],
 "metadata": {
  "language_info": {
   "name": "python"
  }
 },
 "nbformat": 4,
 "nbformat_minor": 2
}
